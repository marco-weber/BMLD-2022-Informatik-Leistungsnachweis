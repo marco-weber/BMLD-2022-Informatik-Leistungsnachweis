{
 "cells": [
  {
   "cell_type": "markdown",
   "id": "697e760c",
   "metadata": {},
   "source": [
    "Informatik BMLD ZHAW, HS 2022\n",
    "\n",
    "# Leistungsnachweis Pandas"
   ]
  },
  {
   "cell_type": "markdown",
   "id": "8b5159ec",
   "metadata": {},
   "source": [
    "## Aufgabenstellung\n",
    "In diesem Leistungsnachweises sollen die bisher erworbenen Kenntnisse von Python, und insbesondere von Pandas, angewendet werden. Aufgabe ist es, entsprechend der vier Schritte der Datenanalyse eine eigene Datenanalyse anhand von selbst gewählten Daten zu erstellen. Folgende Anforderungen werden an die 4 Schritte gestellt:\n",
    "1. Daten beschaffen und laden:\n",
    "- Wählen eine Datenquelle und einen Datensatz (nicht das Beispiel Lebenserwartung aus der Vorlesung)\n",
    "- Für ein «erfüllt» reicht ein Datensatz aus «Our World in Data»\n",
    "- Zusatzpunkte gibt es, wenn weitere Argumente für den read-Befehl benutzt werden müssen.\n",
    "2. Datenvorbereitung\n",
    "- Hier sollen die Daten in das Long Format gebracht werden\n",
    "- Sind die Daten bereits im Long Format, muss in diesem Schritt nichts gemacht werden\n",
    "- Hier gibt es Zusatzpunkte, wenn die melt-Methode verwendet wird oder wenn mehrere Datensetzen vereint werden.\n",
    "3. Daten-Exploration\n",
    "- Mach eine statistische Analyse jeder Spalte (im Long Format)\n",
    "4. Daten-Analyse. Wie beim Excel-Leistungsnachweise:\n",
    "- Überlege eine für die Daten geeignete Forschungsfrage\n",
    "- Beantwortet sie mit einer sinnvollen Visualisierung der Daten\n",
    "- Beschreibe in wenigen Sätzen (als Richtlinie: max. 10) das Vorgehen und die Resultate der Visualisierung.\n",
    "- Zusatzpunkte: Verwendung von Pivot, mehrere Visualisierungen, Recherche zur Plausibilisierung der Resultate.\n",
    "\n",
    "## Rahmenbedingungen\n",
    "- Ihr arbeitet in Gruppen von maximal 3 Personen.\n",
    "- In der übungsstunde vom 1. Dezember könnt ihr Fragen stellen und bekommt Hilfe durch Adrian.\n",
    "- Abgabezeitpunkt ist der 3. Dezember 2022 um 20h.\n",
    "- Abzugeben ist eine Jupyter-Datei auf Moodle. Es reicht, wenn eine Person die Datei einreicht. Dateiname: Titel_Nachname1_Nachname2_Nachname3.ipynb\n",
    "- Der Nachteilsausweis zählt 10% der Gesamtnote"
   ]
  },
  {
   "cell_type": "markdown",
   "id": "69f6aecd",
   "metadata": {},
   "source": [
    "Vorschungsfrage:\n",
    "## Ist Homeoffice eine effektive Art um den Energieverbrauch zu reduzieren?\n",
    "### Abgrenzungen\n",
    "- Um den Aufwand zu reduzieren wird nur der Individualverkehr betrachtet"
   ]
  },
  {
   "cell_type": "code",
   "execution_count": null,
   "id": "530c1bd8",
   "metadata": {},
   "outputs": [],
   "source": []
  }
 ],
 "metadata": {
  "kernelspec": {
   "display_name": "Python 3 (ipykernel)",
   "language": "python",
   "name": "python3"
  },
  "language_info": {
   "codemirror_mode": {
    "name": "ipython",
    "version": 3
   },
   "file_extension": ".py",
   "mimetype": "text/x-python",
   "name": "python",
   "nbconvert_exporter": "python",
   "pygments_lexer": "ipython3",
   "version": "3.9.13"
  }
 },
 "nbformat": 4,
 "nbformat_minor": 5
}
